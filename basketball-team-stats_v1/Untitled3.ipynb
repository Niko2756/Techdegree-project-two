{
 "cells": [
  {
   "cell_type": "code",
   "execution_count": 8,
   "id": "5edb8622",
   "metadata": {},
   "outputs": [],
   "source": [
    "import constants\n",
    "import fuctions"
   ]
  },
  {
   "cell_type": "code",
   "execution_count": null,
   "id": "a5a8ea6b",
   "metadata": {},
   "outputs": [
    {
     "name": "stdout",
     "output_type": "stream",
     "text": [
      "basketball team stat tool\n",
      "\n",
      "\n",
      "-----MENU-----\n",
      "\n",
      "\n",
      "Here are your choices:\n",
      "\n",
      "Input 1 to display team stats\n",
      "Input 2 to quit program\n",
      "(or press enter to go straight through): \n",
      "1) Panthers\n",
      "2) Bandits\n",
      "3) Warriors\n",
      "Please choose from the above options which team you would like to see:3\n",
      "Team: Warriors\n",
      "\n",
      "Joe Kavalier, Bill Bon, Chloe Alaska, Sammy Adams, Matt Gill, Karl Saygan\n",
      "Total players: 6 \n",
      "\n",
      "\n",
      "\n",
      "-----MENU-----\n",
      "\n",
      "\n",
      "Here are your choices:\n",
      "\n",
      "Input 1 to display team stats\n",
      "Input 2 to quit program\n",
      "(or press enter to go straight through): 1\n",
      "1) Panthers\n",
      "2) Bandits\n",
      "3) Warriors\n",
      "Please choose from the above options which team you would like to see:2\n",
      "Team: Bandits\n",
      "\n",
      "Arnold Willis, Jill Tanner, Suzane Greenberg, Sal Dali, Les Clay, Phillip Helm\n",
      "Total players: 6 \n",
      "\n",
      "\n",
      "\n",
      "-----MENU-----\n",
      "\n",
      "\n",
      "Here are your choices:\n",
      "\n"
     ]
    }
   ],
   "source": [
    "data = constants.PLAYERS.copy()\n",
    "theTeams = constants.TEAMS.copy()\n",
    "dataThatHasBeenCleaned = fuctions.clean_the_data(data)\n",
    "theTeamsBalanced, num_players_team = fuctions.balance_the_teams(theTeams, dataThatHasBeenCleaned)\n",
    "theTeamsBalancedButJustNames = fuctions.info_stripper_leave_just_name(theTeamsBalanced, num_players_team)\n",
    "print(\"basketball team stat tool\")\n",
    "while True:\n",
    "    print(\"\\n\\n-----MENU-----\\n\\n\")\n",
    "    print(\"Here are your choices:\\n\")\n",
    "    userInput = fuctions.your_first_choice()\n",
    "    if userInput == 1:\n",
    "        for x, team in enumerate(theTeams):\n",
    "            print(f'{x+1}) {team}')\n",
    "        secondUserInput = fuctions.your_second_choice(theTeams)\n",
    "        print(f\"Team: {theTeams[secondUserInput-1]}\\n\")\n",
    "        print(', '.join(map(str, theTeamsBalancedButJustNames[secondUserInput-1])))\n",
    "        print(f\"Total players: {len(theTeamsBalancedButJustNames[secondUserInput-1])} \\n\")\n",
    "    else:\n",
    "        print(\"Thank you so much for using this thing.\\nThis app has been coded by Niko.\")\n",
    "        break\n"
   ]
  },
  {
   "cell_type": "code",
   "execution_count": 6,
   "id": "0128a3c1",
   "metadata": {},
   "outputs": [
    {
     "data": {
      "text/plain": [
       "3"
      ]
     },
     "execution_count": 6,
     "metadata": {},
     "output_type": "execute_result"
    }
   ],
   "source": [
    "\n",
    "len(theTeamsBalancedButJustNames)\n",
    "\n"
   ]
  },
  {
   "cell_type": "code",
   "execution_count": 7,
   "id": "9c8260af",
   "metadata": {},
   "outputs": [
    {
     "data": {
      "text/plain": [
       "6"
      ]
     },
     "execution_count": 7,
     "metadata": {},
     "output_type": "execute_result"
    }
   ],
   "source": [
    "len(theTeamsBalancedButJustNames[0])"
   ]
  },
  {
   "cell_type": "code",
   "execution_count": null,
   "id": "a2cf7347",
   "metadata": {},
   "outputs": [],
   "source": []
  }
 ],
 "metadata": {
  "kernelspec": {
   "display_name": "Python 3 (ipykernel)",
   "language": "python",
   "name": "python3"
  },
  "language_info": {
   "codemirror_mode": {
    "name": "ipython",
    "version": 3
   },
   "file_extension": ".py",
   "mimetype": "text/x-python",
   "name": "python",
   "nbconvert_exporter": "python",
   "pygments_lexer": "ipython3",
   "version": "3.9.13"
  }
 },
 "nbformat": 4,
 "nbformat_minor": 5
}
