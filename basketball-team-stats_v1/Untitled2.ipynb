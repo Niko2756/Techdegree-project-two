{
 "cells": [
  {
   "cell_type": "code",
   "execution_count": 1,
   "id": "71dc45dc",
   "metadata": {},
   "outputs": [],
   "source": [
    "import constants\n",
    "import fuctions"
   ]
  },
  {
   "cell_type": "code",
   "execution_count": 2,
   "id": "2ba57cd6",
   "metadata": {},
   "outputs": [],
   "source": [
    "data = constants.PLAYERS.copy()\n",
    "theTeams = constants.TEAMS.copy()\n",
    "dataThatHasBeenCleaned = fuctions.clean_the_data(data)\n",
    "#print(dataThatHasBeenCleaned)\n",
    "theTeamsBalanced, num_players_team = fuctions.balance_the_teams(theTeams, dataThatHasBeenCleaned)\n",
    "theTeamsBalancedButJustNames = fuctions.info_stripper_leave_just_name(theTeamsBalanced, num_players_team)\n",
    "\n"
   ]
  },
  {
   "cell_type": "code",
   "execution_count": 5,
   "id": "5c823a54",
   "metadata": {},
   "outputs": [
    {
     "name": "stdout",
     "output_type": "stream",
     "text": [
      "['Joe Kavalier', 'Bill Bon', 'Chloe Alaska', 'Sammy Adams', 'Matt Gill', 'Karl Saygan']\n"
     ]
    }
   ],
   "source": [
    "print(theTeamsBalancedButJustNames[2])"
   ]
  },
  {
   "cell_type": "code",
   "execution_count": null,
   "id": "e53e462b",
   "metadata": {},
   "outputs": [],
   "source": []
  }
 ],
 "metadata": {
  "kernelspec": {
   "display_name": "Python 3 (ipykernel)",
   "language": "python",
   "name": "python3"
  },
  "language_info": {
   "codemirror_mode": {
    "name": "ipython",
    "version": 3
   },
   "file_extension": ".py",
   "mimetype": "text/x-python",
   "name": "python",
   "nbconvert_exporter": "python",
   "pygments_lexer": "ipython3",
   "version": "3.9.13"
  }
 },
 "nbformat": 4,
 "nbformat_minor": 5
}
