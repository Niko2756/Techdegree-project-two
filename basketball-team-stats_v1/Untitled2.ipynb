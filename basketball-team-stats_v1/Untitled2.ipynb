{
 "cells": [
  {
   "cell_type": "code",
   "execution_count": 3,
   "id": "71dc45dc",
   "metadata": {},
   "outputs": [],
   "source": [
    "import constants\n",
    "import fuctions"
   ]
  },
  {
   "cell_type": "code",
   "execution_count": 4,
   "id": "2ba57cd6",
   "metadata": {},
   "outputs": [],
   "source": [
    "data = constants.PLAYERS.copy()\n",
    "theTeams = constants.TEAMS.copy()\n",
    "dataThatHasBeenCleaned = fuctions.clean_the_data(data)\n",
    "#print(dataThatHasBeenCleaned)\n",
    "theTeamsBalanced, num_players_team = fuctions.balance_the_teams(theTeams, dataThatHasBeenCleaned)\n",
    "theTeamsBalancedButJustNames = fuctions.info_stripper_leave_just_name(theTeamsBalanced, num_players_team)\n",
    "\n"
   ]
  },
  {
   "cell_type": "code",
   "execution_count": 8,
   "id": "5c823a54",
   "metadata": {},
   "outputs": [
    {
     "name": "stdout",
     "output_type": "stream",
     "text": [
      "['Joe Kavalier', 'Bill Bon', 'Chloe Alaska', 'Sammy Adams', 'Matt Gill', 'Karl Saygan']\n"
     ]
    }
   ],
   "source": [
    "print(theTeamsBalancedButJustNames[2])"
   ]
  },
  {
   "cell_type": "code",
   "execution_count": 11,
   "id": "e53e462b",
   "metadata": {},
   "outputs": [
    {
     "name": "stdout",
     "output_type": "stream",
     "text": [
      "Kimmy Stein, Diego Soto, Joe Smith, Ben Finkelstein, Eva Gordon, Herschel Krustofski\n"
     ]
    }
   ],
   "source": [
    "print(', '.join(map(str, theTeamsBalancedButJustNames[0])))"
   ]
  },
  {
   "cell_type": "code",
   "execution_count": 14,
   "id": "2c9f19d4",
   "metadata": {},
   "outputs": [
    {
     "name": "stdout",
     "output_type": "stream",
     "text": [
      "Input 1 to display team stats\n",
      " Input 2 to display team stats (or press enter to go straight through): 9\n",
      "that is not a viable option\n",
      "Input 1 to display team stats\n",
      " Input 2 to display team stats (or press enter to go straight through): 2\n",
      "that is not a viable option\n",
      "Input 1 to display team stats\n",
      " Input 2 to display team stats (or press enter to go straight through): 1\n"
     ]
    }
   ],
   "source": [
    "while True:\n",
    "        try:\n",
    "            userInput = int(input(\"Input 1 to display team stats\\n Input 2 to display team stats (or press enter to go straight through): \")or 1)\n",
    "        except ValueError:\n",
    "            print(\"Hey I don't think that's even a number. \\nGo ahead and enter the number of userInput again,\\nbut make sure it's like a actual number this time:\\n\\n\")\n",
    "            continue\n",
    "        if not userInput == 1 or userInput == 2:\n",
    "            print(\"that is not a viable option\")\n",
    "            continue\n",
    "        else:\n",
    "            break\n"
   ]
  },
  {
   "cell_type": "code",
   "execution_count": 18,
   "id": "9d7f84e7",
   "metadata": {},
   "outputs": [
    {
     "name": "stdout",
     "output_type": "stream",
     "text": [
      "1) Panthers\n",
      "2) Bandits\n",
      "3) Warriors\n"
     ]
    }
   ],
   "source": [
    "for x, team in enumerate(theTeams):\n",
    "    print(f'{x+1}) {team}')"
   ]
  },
  {
   "cell_type": "code",
   "execution_count": null,
   "id": "b057547b",
   "metadata": {},
   "outputs": [
    {
     "name": "stdout",
     "output_type": "stream",
     "text": [
      "Input 1 to display team stats\n",
      "Input 2 to display team stats\n",
      "(or press enter to go straight through): 1\n",
      "Input 1 to display team stats\n",
      "Input 2 to display team stats\n",
      "(or press enter to go straight through): 2\n",
      "Input 1 to display team stats\n",
      "Input 2 to display team stats\n",
      "(or press enter to go straight through): 2\n",
      "Input 1 to display team stats\n",
      "Input 2 to display team stats\n",
      "(or press enter to go straight through): 2424\n",
      "\n",
      "that is not a viable option\n",
      "\n"
     ]
    }
   ],
   "source": [
    " while True:\n",
    "    try:\n",
    "        userInput = int(input(\"Input 1 to display team stats\\nInput 2 to display team stats\\n(or press enter to go straight through): \")or 1)\n",
    "    except ValueError:\n",
    "        print(\"Hey I don't think that's even a number. \\nGo ahead and enter the number of userInput again,\\nbut make sure it's like a actual number this time:\\n\\n\")\n",
    "        continue\n",
    "    if userInput not in (1,2):\n",
    "        print(\"\\nthat is not a viable option\\n\")\n",
    "        continue\n"
   ]
  },
  {
   "cell_type": "code",
   "execution_count": null,
   "id": "c245483b",
   "metadata": {},
   "outputs": [],
   "source": []
  }
 ],
 "metadata": {
  "kernelspec": {
   "display_name": "Python 3 (ipykernel)",
   "language": "python",
   "name": "python3"
  },
  "language_info": {
   "codemirror_mode": {
    "name": "ipython",
    "version": 3
   },
   "file_extension": ".py",
   "mimetype": "text/x-python",
   "name": "python",
   "nbconvert_exporter": "python",
   "pygments_lexer": "ipython3",
   "version": "3.9.13"
  }
 },
 "nbformat": 4,
 "nbformat_minor": 5
}
