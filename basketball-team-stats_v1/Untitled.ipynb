{
 "cells": [
  {
   "cell_type": "code",
   "execution_count": 1,
   "id": "bc465ebd",
   "metadata": {},
   "outputs": [],
   "source": [
    "import constants\n",
    "import fuctions\n"
   ]
  },
  {
   "cell_type": "code",
   "execution_count": null,
   "id": "3f44d6bd",
   "metadata": {},
   "outputs": [],
   "source": [
    "\n"
   ]
  },
  {
   "cell_type": "code",
   "execution_count": 2,
   "id": "1823df5a",
   "metadata": {},
   "outputs": [],
   "source": [
    "data = constants.PLAYERS.copy()\n",
    "theTeams = constants.TEAMS.copy()"
   ]
  },
  {
   "cell_type": "code",
   "execution_count": 3,
   "id": "57426fae",
   "metadata": {},
   "outputs": [
    {
     "name": "stdout",
     "output_type": "stream",
     "text": [
      "[{'name': 'Karl Saygan', 'guardians': 'Heather Bledsoe', 'experience': 'YES', 'height': '42 inches'}, {'name': 'Matt Gill', 'guardians': 'Charles Gill and Sylvia Gill', 'experience': 'NO', 'height': '40 inches'}, {'name': 'Sammy Adams', 'guardians': 'Jeff Adams and Gary Adams', 'experience': 'NO', 'height': '45 inches'}, {'name': 'Chloe Alaska', 'guardians': 'David Alaska and Jamie Alaska', 'experience': 'NO', 'height': '47 inches'}, {'name': 'Bill Bon', 'guardians': 'Sara Bon and Jenny Bon', 'experience': 'YES', 'height': '43 inches'}, {'name': 'Joe Kavalier', 'guardians': 'Sam Kavalier and Elaine Kavalier', 'experience': 'NO', 'height': '39 inches'}, {'name': 'Phillip Helm', 'guardians': 'Thomas Helm and Eva Jones', 'experience': 'YES', 'height': '44 inches'}, {'name': 'Les Clay', 'guardians': 'Wynonna Brown', 'experience': 'YES', 'height': '42 inches'}, {'name': 'Sal Dali', 'guardians': 'Gala Dali', 'experience': 'NO', 'height': '41 inches'}, {'name': 'Suzane Greenberg', 'guardians': 'Henrietta Dumas', 'experience': 'YES', 'height': '44 inches'}, {'name': 'Jill Tanner', 'guardians': 'Mark Tanner', 'experience': 'YES', 'height': '36 inches'}, {'name': 'Arnold Willis', 'guardians': 'Claire Willis', 'experience': 'NO', 'height': '43 inches'}, {'name': 'Herschel Krustofski', 'guardians': 'Hyman Krustofski and Rachel Krustofski', 'experience': 'YES', 'height': '45 inches'}, {'name': 'Eva Gordon', 'guardians': 'Wendy Martin and Mike Gordon', 'experience': 'NO', 'height': '45 inches'}, {'name': 'Ben Finkelstein', 'guardians': 'Aaron Lanning and Jill Finkelstein', 'experience': 'NO', 'height': '44 inches'}, {'name': 'Joe Smith', 'guardians': 'Jim Smith and Jan Smith', 'experience': 'YES', 'height': '42 inches'}, {'name': 'Diego Soto', 'guardians': 'Robin Soto and Sarika Soto', 'experience': 'YES', 'height': '41 inches'}, {'name': 'Kimmy Stein', 'guardians': 'Bill Stein and Hillary Stein', 'experience': 'NO', 'height': '41 inches'}]\n"
     ]
    }
   ],
   "source": [
    "print(data)"
   ]
  },
  {
   "cell_type": "code",
   "execution_count": 18,
   "id": "8e9ec5b0",
   "metadata": {},
   "outputs": [
    {
     "name": "stdout",
     "output_type": "stream",
     "text": [
      "18\n"
     ]
    }
   ],
   "source": [
    "theTeams = constants.TEAMS.copy()\n",
    "dataThatHasBeenCleaned = fuctions.clean_the_data(data)\n",
    "print(len(dataThatHasBeenCleaned))"
   ]
  },
  {
   "cell_type": "code",
   "execution_count": 14,
   "id": "697881e3",
   "metadata": {},
   "outputs": [],
   "source": [
    "theTeamsBalanced = fuctions.balance_the_teams(theTeams, dataThatHasBeenCleaned)"
   ]
  },
  {
   "cell_type": "code",
   "execution_count": 15,
   "id": "ce218ee1",
   "metadata": {},
   "outputs": [
    {
     "name": "stdout",
     "output_type": "stream",
     "text": [
      "Eva Gordon\n"
     ]
    }
   ],
   "source": [
    "print(theTeamsBalanced[0][4].get(\"name\"))"
   ]
  },
  {
   "cell_type": "code",
   "execution_count": 16,
   "id": "68bc05a6",
   "metadata": {},
   "outputs": [
    {
     "data": {
      "text/plain": [
       "3"
      ]
     },
     "execution_count": 16,
     "metadata": {},
     "output_type": "execute_result"
    }
   ],
   "source": [
    "len(theTeams)"
   ]
  },
  {
   "cell_type": "code",
   "execution_count": 17,
   "id": "05604f32",
   "metadata": {},
   "outputs": [
    {
     "name": "stdout",
     "output_type": "stream",
     "text": [
      "[]\n"
     ]
    }
   ],
   "source": [
    "print(dataThatHasBeenCleaned)"
   ]
  },
  {
   "cell_type": "code",
   "execution_count": 8,
   "id": "a17c3735",
   "metadata": {},
   "outputs": [
    {
     "ename": "ZeroDivisionError",
     "evalue": "division by zero",
     "output_type": "error",
     "traceback": [
      "\u001b[0;31m---------------------------------------------------------------------------\u001b[0m",
      "\u001b[0;31mZeroDivisionError\u001b[0m                         Traceback (most recent call last)",
      "\u001b[0;32m/var/folders/15/9jvryrh97kl094t1y5n3t6qr0000gn/T/ipykernel_36213/3603129333.py\u001b[0m in \u001b[0;36m<module>\u001b[0;34m\u001b[0m\n\u001b[0;32m----> 1\u001b[0;31m \u001b[0mnum_players_team\u001b[0m \u001b[0;34m=\u001b[0m \u001b[0mint\u001b[0m\u001b[0;34m(\u001b[0m\u001b[0mlen\u001b[0m\u001b[0;34m(\u001b[0m\u001b[0mtheTeams\u001b[0m\u001b[0;34m)\u001b[0m \u001b[0;34m/\u001b[0m \u001b[0mlen\u001b[0m\u001b[0;34m(\u001b[0m\u001b[0mdataThatHasBeenCleaned\u001b[0m\u001b[0;34m)\u001b[0m\u001b[0;34m)\u001b[0m\u001b[0;34m\u001b[0m\u001b[0;34m\u001b[0m\u001b[0m\n\u001b[0m\u001b[1;32m      2\u001b[0m \u001b[0mprint\u001b[0m\u001b[0;34m(\u001b[0m\u001b[0mnum_players_team\u001b[0m\u001b[0;34m)\u001b[0m\u001b[0;34m\u001b[0m\u001b[0;34m\u001b[0m\u001b[0m\n",
      "\u001b[0;31mZeroDivisionError\u001b[0m: division by zero"
     ]
    }
   ],
   "source": [
    "num_players_team = int(len(theTeams) / len(dataThatHasBeenCleaned))\n",
    "print(num_players_team)"
   ]
  },
  {
   "cell_type": "code",
   "execution_count": 20,
   "id": "795af146",
   "metadata": {},
   "outputs": [
    {
     "name": "stdout",
     "output_type": "stream",
     "text": [
      "Kimmy Stein\n",
      "Diego Soto\n",
      "Joe Smith\n",
      "Ben Finkelstein\n",
      "Eva Gordon\n",
      "Herschel Krustofski\n",
      "[['Kimmy Stein', 'Diego Soto', 'Joe Smith', 'Ben Finkelstein', 'Eva Gordon', 'Herschel Krustofski']]\n",
      "Arnold Willis\n",
      "Jill Tanner\n",
      "Suzane Greenberg\n",
      "Sal Dali\n",
      "Les Clay\n",
      "Phillip Helm\n",
      "[['Kimmy Stein', 'Diego Soto', 'Joe Smith', 'Ben Finkelstein', 'Eva Gordon', 'Herschel Krustofski'], ['Arnold Willis', 'Jill Tanner', 'Suzane Greenberg', 'Sal Dali', 'Les Clay', 'Phillip Helm']]\n",
      "Joe Kavalier\n",
      "Bill Bon\n",
      "Chloe Alaska\n",
      "Sammy Adams\n",
      "Matt Gill\n",
      "Karl Saygan\n",
      "[['Kimmy Stein', 'Diego Soto', 'Joe Smith', 'Ben Finkelstein', 'Eva Gordon', 'Herschel Krustofski'], ['Arnold Willis', 'Jill Tanner', 'Suzane Greenberg', 'Sal Dali', 'Les Clay', 'Phillip Helm'], ['Joe Kavalier', 'Bill Bon', 'Chloe Alaska', 'Sammy Adams', 'Matt Gill', 'Karl Saygan']]\n"
     ]
    }
   ],
   "source": [
    "theTeamsBalancedButJustNames = []\n",
    "for x in range(len(theTeamsBalanced)):\n",
    "    holdingList = []\n",
    "    for y in range(6):\n",
    "        print(theTeamsBalanced[x][y].get(\"name\"))\n",
    "        holdingList.append(theTeamsBalanced[x][y].get(\"name\"))\n",
    "\n",
    "    theTeamsBalancedButJustNames.append(holdingList)\n",
    "    print(theTeamsBalancedButJustNames)\n"
   ]
  },
  {
   "cell_type": "code",
   "execution_count": 54,
   "id": "78062e9c",
   "metadata": {},
   "outputs": [
    {
     "name": "stdout",
     "output_type": "stream",
     "text": [
      "[]\n"
     ]
    }
   ],
   "source": [
    "print(theTeamsBalancedButJustNames[0])"
   ]
  },
  {
   "cell_type": "code",
   "execution_count": null,
   "id": "eb4a8d58",
   "metadata": {},
   "outputs": [],
   "source": []
  }
 ],
 "metadata": {
  "kernelspec": {
   "display_name": "Python 3 (ipykernel)",
   "language": "python",
   "name": "python3"
  },
  "language_info": {
   "codemirror_mode": {
    "name": "ipython",
    "version": 3
   },
   "file_extension": ".py",
   "mimetype": "text/x-python",
   "name": "python",
   "nbconvert_exporter": "python",
   "pygments_lexer": "ipython3",
   "version": "3.9.13"
  }
 },
 "nbformat": 4,
 "nbformat_minor": 5
}
