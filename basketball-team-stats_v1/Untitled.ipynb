{
 "cells": [
  {
   "cell_type": "code",
   "execution_count": 1,
   "id": "a3720e95",
   "metadata": {},
   "outputs": [],
   "source": [
    "import constants\n"
   ]
  },
  {
   "cell_type": "code",
   "execution_count": 2,
   "id": "b5483114",
   "metadata": {},
   "outputs": [],
   "source": [
    "import application"
   ]
  },
  {
   "cell_type": "code",
   "execution_count": 8,
   "id": "16cae7e4",
   "metadata": {},
   "outputs": [],
   "source": [
    "data = constants.PLAYERS.copy()\n",
    "theTeams = constants.TEAMS.copy()"
   ]
  },
  {
   "cell_type": "code",
   "execution_count": 5,
   "id": "ec7df380",
   "metadata": {},
   "outputs": [
    {
     "name": "stdout",
     "output_type": "stream",
     "text": [
      "[{'name': 'Karl Saygan', 'guardians': 'Heather Bledsoe', 'experience': 'YES', 'height': '42 inches'}, {'name': 'Matt Gill', 'guardians': 'Charles Gill and Sylvia Gill', 'experience': 'NO', 'height': '40 inches'}, {'name': 'Sammy Adams', 'guardians': 'Jeff Adams and Gary Adams', 'experience': 'NO', 'height': '45 inches'}, {'name': 'Chloe Alaska', 'guardians': 'David Alaska and Jamie Alaska', 'experience': 'NO', 'height': '47 inches'}, {'name': 'Bill Bon', 'guardians': 'Sara Bon and Jenny Bon', 'experience': 'YES', 'height': '43 inches'}, {'name': 'Joe Kavalier', 'guardians': 'Sam Kavalier and Elaine Kavalier', 'experience': 'NO', 'height': '39 inches'}, {'name': 'Phillip Helm', 'guardians': 'Thomas Helm and Eva Jones', 'experience': 'YES', 'height': '44 inches'}, {'name': 'Les Clay', 'guardians': 'Wynonna Brown', 'experience': 'YES', 'height': '42 inches'}, {'name': 'Sal Dali', 'guardians': 'Gala Dali', 'experience': 'NO', 'height': '41 inches'}, {'name': 'Suzane Greenberg', 'guardians': 'Henrietta Dumas', 'experience': 'YES', 'height': '44 inches'}, {'name': 'Jill Tanner', 'guardians': 'Mark Tanner', 'experience': 'YES', 'height': '36 inches'}, {'name': 'Arnold Willis', 'guardians': 'Claire Willis', 'experience': 'NO', 'height': '43 inches'}, {'name': 'Herschel Krustofski', 'guardians': 'Hyman Krustofski and Rachel Krustofski', 'experience': 'YES', 'height': '45 inches'}, {'name': 'Eva Gordon', 'guardians': 'Wendy Martin and Mike Gordon', 'experience': 'NO', 'height': '45 inches'}, {'name': 'Ben Finkelstein', 'guardians': 'Aaron Lanning and Jill Finkelstein', 'experience': 'NO', 'height': '44 inches'}, {'name': 'Joe Smith', 'guardians': 'Jim Smith and Jan Smith', 'experience': 'YES', 'height': '42 inches'}, {'name': 'Diego Soto', 'guardians': 'Robin Soto and Sarika Soto', 'experience': 'YES', 'height': '41 inches'}, {'name': 'Kimmy Stein', 'guardians': 'Bill Stein and Hillary Stein', 'experience': 'NO', 'height': '41 inches'}]\n"
     ]
    }
   ],
   "source": [
    "print(data)"
   ]
  },
  {
   "cell_type": "code",
   "execution_count": 7,
   "id": "2c3dd7cb",
   "metadata": {},
   "outputs": [
    {
     "name": "stdout",
     "output_type": "stream",
     "text": [
      "[{'name': 'Karl Saygan', 'guardians': 'Heather Bledsoe', 'experience': True, 'height': 42}, {'name': 'Matt Gill', 'guardians': 'Charles Gill and Sylvia Gill', 'experience': False, 'height': 40}, {'name': 'Sammy Adams', 'guardians': 'Jeff Adams and Gary Adams', 'experience': False, 'height': 45}, {'name': 'Chloe Alaska', 'guardians': 'David Alaska and Jamie Alaska', 'experience': False, 'height': 47}, {'name': 'Bill Bon', 'guardians': 'Sara Bon and Jenny Bon', 'experience': True, 'height': 43}, {'name': 'Joe Kavalier', 'guardians': 'Sam Kavalier and Elaine Kavalier', 'experience': False, 'height': 39}, {'name': 'Phillip Helm', 'guardians': 'Thomas Helm and Eva Jones', 'experience': True, 'height': 44}, {'name': 'Les Clay', 'guardians': 'Wynonna Brown', 'experience': True, 'height': 42}, {'name': 'Sal Dali', 'guardians': 'Gala Dali', 'experience': False, 'height': 41}, {'name': 'Suzane Greenberg', 'guardians': 'Henrietta Dumas', 'experience': True, 'height': 44}, {'name': 'Jill Tanner', 'guardians': 'Mark Tanner', 'experience': True, 'height': 36}, {'name': 'Arnold Willis', 'guardians': 'Claire Willis', 'experience': False, 'height': 43}, {'name': 'Herschel Krustofski', 'guardians': 'Hyman Krustofski and Rachel Krustofski', 'experience': True, 'height': 45}, {'name': 'Eva Gordon', 'guardians': 'Wendy Martin and Mike Gordon', 'experience': False, 'height': 45}, {'name': 'Ben Finkelstein', 'guardians': 'Aaron Lanning and Jill Finkelstein', 'experience': False, 'height': 44}, {'name': 'Joe Smith', 'guardians': 'Jim Smith and Jan Smith', 'experience': True, 'height': 42}, {'name': 'Diego Soto', 'guardians': 'Robin Soto and Sarika Soto', 'experience': True, 'height': 41}, {'name': 'Kimmy Stein', 'guardians': 'Bill Stein and Hillary Stein', 'experience': False, 'height': 41}]\n"
     ]
    }
   ],
   "source": [
    "theTeams = constants.TEAMS.copy()\n",
    "dataThatHasBeenCleaned = application.clean_the_data(data)\n",
    "print(dataThatHasBeenCleaned)"
   ]
  },
  {
   "cell_type": "code",
   "execution_count": null,
   "id": "6bd6ec10",
   "metadata": {},
   "outputs": [],
   "source": []
  }
 ],
 "metadata": {
  "kernelspec": {
   "display_name": "Python 3 (ipykernel)",
   "language": "python",
   "name": "python3"
  },
  "language_info": {
   "codemirror_mode": {
    "name": "ipython",
    "version": 3
   },
   "file_extension": ".py",
   "mimetype": "text/x-python",
   "name": "python",
   "nbconvert_exporter": "python",
   "pygments_lexer": "ipython3",
   "version": "3.9.13"
  }
 },
 "nbformat": 4,
 "nbformat_minor": 5
}
